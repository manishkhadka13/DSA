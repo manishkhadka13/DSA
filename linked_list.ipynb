{
 "cells": [
  {
   "cell_type": "code",
   "execution_count": 1,
   "metadata": {},
   "outputs": [],
   "source": [
    "class node:\n",
    "    \"\"\"\n",
    "    Class to create a node for a linked list\n",
    "    \"\"\"\n",
    "    def __init__(self,data):\n",
    "        \"\"\"\n",
    "        Constructor for the node class\n",
    "        \"\"\"\n",
    "        self.data = data   # Assign data\n",
    "        self.next = None   # Initialize next as null\n",
    "    \n"
   ]
  },
  {
   "cell_type": "code",
   "execution_count": 26,
   "metadata": {},
   "outputs": [],
   "source": [
    "class linked_list:\n",
    "    \"\"\"\"\n",
    "    Class to create a linked list\n",
    "    \"\"\"\n",
    "    def __init__(self):\n",
    "        self.head=None  #Empty linked list\n",
    "        self.n=0        #Number of nodes in the linked list\n",
    "    def __len__(self):\n",
    "        \"\"\"\n",
    "        Function to return the length of the linked list\n",
    "        Args: None\n",
    "        Returns: \n",
    "            Integer:Length of the linked list\n",
    "\n",
    "        \"\"\"\n",
    "        return self.n\n",
    "    def insert_from_head(self,data):\n",
    "        \"\"\"\n",
    "        Function to insert a node from the head of the linked list\n",
    "        Args:\n",
    "            data: Data to be inserted in the node\n",
    "        Returns: None     \n",
    "        \"\"\"\n",
    "        new_node=node(data)     #Create a new node\n",
    "        new_node.next=self.head     #Point the next of the new node to the head of the linked list\n",
    "        self.head=new_node      #Make the new node as the head of the linked list\n",
    "        self.n+=1        #Increase the length of the linked list by 1\n",
    "    def __str__(self):\n",
    "        \"\"\"\n",
    "        Function to print the linked list\n",
    "        Args: None\n",
    "        Returns: \n",
    "            String: Linked list\n",
    "        \"\"\" \n",
    "        if self.head==None:\n",
    "            print(\"Linked list is empty\")\n",
    "            return\n",
    "        current=self.head       #Start from the head of the linked list\n",
    "        ls=''           #Empty string to store the linked list\n",
    "        while current!=None:\n",
    "            ls=ls+str(current.data)+ '-->'      #Add the data of the current node to the string\n",
    "            current=current.next        #Move to the next node\n",
    "\n",
    "        return ls[:-3]      #Remove the last arrow\n",
    "    def find_index(self,data):\n",
    "        \"\"\"\n",
    "        Function to return the index of the given node\n",
    "        Args:\n",
    "            data: Data of the node to be found\n",
    "        Returns:\n",
    "            Integer:Index of the node to be found\n",
    "        \"\"\"\n",
    "        current=self.head\n",
    "        index=0         #Index of the current node\n",
    "        while current!=None:\n",
    "            if current.data==data:    #If the current node is the node to be found\n",
    "                return index         #Return the index of the node\n",
    "            current=current.next\n",
    "            index+=1\n",
    "        return \"IndexError: Data not found in the linked list\"   #If the node is not found\n",
    "    def append(self,data):\n",
    "        \"\"\"\n",
    "        Function to append a node to the end of the linked list\n",
    "        Args:\n",
    "            data: Data to be inserted in the node\n",
    "        Returns: None    \n",
    "        \"\"\"\n",
    "        new_node=node(data)     #Create a new node\n",
    "        if self.head==None:     #If the linked list is empty\n",
    "            self.head=new_node  #Make the new node as the head of the linked list\n",
    "            self.n+=1           #Increase the length of the linked list by 1\n",
    "            return\n",
    "        current=self.head   #Create connection to the head of the linked list\n",
    "        while current.next!=None:   #Move to the end of the linked list\n",
    "            current=current.next\n",
    "        current.next=new_node   #Make the new node as the next of the last node\n",
    "        self.n+=1   #Increase the length of the linked list by 1\n",
    "    def insert_after(self,data,after):\n",
    "        \"\"\"\n",
    "        Function to insert a node after a given node\n",
    "        Args:\n",
    "            data(Integer): Data to be inserted in the node\n",
    "            after(Integer): Data of the node after which the new node is to be inserted\n",
    "        Returns: None\n",
    "\n",
    "        \"\"\"\n",
    "        new_node=node(data)  #Create a new node\n",
    "        self.n=self.n+1   #Increase the length of the linked list by 1\n",
    "        current=self.head    \n",
    "        while current!=None:  \n",
    "            if current.data==after:  #If the current node is the node after which the new node is to be inserted\n",
    "                break\n",
    "            current=current.next   #Move to the next node\n",
    "        if current!=None:\n",
    "            new_node.next=current.next   #Make the next of the new node as the next of the current node\n",
    "            current.next=new_node   #Make the new node as the next of the current node\n",
    "    def delete_from_head(self):\n",
    "        \"\"\"\n",
    "        Function to delete a node from the head of the linked list\n",
    "        Args: None\n",
    "        Returns: None\n",
    "        \"\"\"\n",
    "        if self.head==None:\n",
    "            print(\"Linked list is empty\")\n",
    "            return\n",
    "        self.head=self.head.next   #Make the next of the head as the head\n",
    "        self.n-=1   #Decrease the length of the linked list by 1\n",
    "    def delete_from_end(self):\n",
    "        \"\"\"\n",
    "        Function to delete a node from the end of the linked list\n",
    "        Args: None\n",
    "        Returns: None\n",
    "        \"\"\"\n",
    "        current=self.head\n",
    "        if current==None:    #If the linked list is empty\n",
    "            print(\"Linked list is empty\")\n",
    "            return\n",
    "        if current.next==None:   #If there is only one node in the linked list\n",
    "            self.head=None\n",
    "            self.n-=1\n",
    "            return\n",
    "        while current.next.next != None:  #Move to the node before the last node\n",
    "            current=current.next          #Move to the next node\n",
    "        current.next=None              #Make the next of the current node as null\n",
    "        self.n-=1   #Decrease the length of the linked list by 1\n",
    "      \n",
    "    def delete_after(self,after):\n",
    "        \"\"\"\n",
    "        Function to delete a node after a given node\n",
    "        Args:\n",
    "            after(Integer): Data of the node after which the node is to be deleted\n",
    "        Returns: None\n",
    "\n",
    "        \"\"\"\n",
    "        if self.head==None:\n",
    "            print(\"Linked list is empty\")\n",
    "            return\n",
    "        current=self.head  \n",
    "        while current!=None:   #Move to the node before the node to be deleted\n",
    "            if current.data==after:    #If the current node is the node before the node to be deleted\n",
    "                break\n",
    "            current=current.next   #Move to the next node\n",
    "        if current!=None:\n",
    "            current.next=current.next.next   #Make the next of the current node as the next of the next of the current node\n",
    "        self.n-=1   #Decrease the length of the linked list by 1\n",
    "\n",
    "    def clear(self):\n",
    "        \"\"\"\n",
    "        Function to clear the linked list\n",
    "        Args: None\n",
    "        Returns: None\n",
    "        \"\"\"\n",
    "        self.head=None\n",
    "        self.n=0"
   ]
  },
  {
   "cell_type": "code",
   "execution_count": 27,
   "metadata": {},
   "outputs": [],
   "source": [
    "linked=linked_list()"
   ]
  },
  {
   "cell_type": "code",
   "execution_count": 28,
   "metadata": {},
   "outputs": [],
   "source": [
    "linked.insert_from_head(10)\n",
    "linked.insert_from_head(20)\n",
    "linked.insert_from_head(30)\n",
    "linked.insert_from_head(40)\n",
    "linked.insert_from_head(50)"
   ]
  },
  {
   "cell_type": "code",
   "execution_count": 29,
   "metadata": {},
   "outputs": [
    {
     "data": {
      "text/plain": [
       "5"
      ]
     },
     "execution_count": 29,
     "metadata": {},
     "output_type": "execute_result"
    }
   ],
   "source": [
    "len(linked)"
   ]
  },
  {
   "cell_type": "code",
   "execution_count": 30,
   "metadata": {},
   "outputs": [
    {
     "name": "stdout",
     "output_type": "stream",
     "text": [
      "50-->40-->30-->20-->10\n"
     ]
    }
   ],
   "source": [
    "print(linked)"
   ]
  },
  {
   "cell_type": "code",
   "execution_count": 31,
   "metadata": {},
   "outputs": [
    {
     "data": {
      "text/plain": [
       "4"
      ]
     },
     "execution_count": 31,
     "metadata": {},
     "output_type": "execute_result"
    }
   ],
   "source": [
    "linked.find_index(10)"
   ]
  },
  {
   "cell_type": "code",
   "execution_count": 44,
   "metadata": {},
   "outputs": [],
   "source": [
    "linked.append(60)"
   ]
  },
  {
   "cell_type": "code",
   "execution_count": 45,
   "metadata": {},
   "outputs": [],
   "source": [
    "linked.insert_after(100,30)"
   ]
  },
  {
   "cell_type": "code",
   "execution_count": 46,
   "metadata": {},
   "outputs": [
    {
     "name": "stdout",
     "output_type": "stream",
     "text": [
      "50-->40-->30-->100-->20-->10-->60\n"
     ]
    }
   ],
   "source": [
    "print(linked)"
   ]
  },
  {
   "cell_type": "code",
   "execution_count": 47,
   "metadata": {},
   "outputs": [],
   "source": [
    "linked.delete_from_head()"
   ]
  },
  {
   "cell_type": "code",
   "execution_count": 48,
   "metadata": {},
   "outputs": [
    {
     "name": "stdout",
     "output_type": "stream",
     "text": [
      "40-->30-->100-->20-->10-->60\n"
     ]
    }
   ],
   "source": [
    "print(linked)"
   ]
  },
  {
   "cell_type": "code",
   "execution_count": 49,
   "metadata": {},
   "outputs": [],
   "source": [
    "linked.delete_from_end()"
   ]
  },
  {
   "cell_type": "code",
   "execution_count": 50,
   "metadata": {},
   "outputs": [
    {
     "name": "stdout",
     "output_type": "stream",
     "text": [
      "40-->30-->100-->20-->10\n"
     ]
    }
   ],
   "source": [
    "print(linked)"
   ]
  },
  {
   "cell_type": "code",
   "execution_count": 51,
   "metadata": {},
   "outputs": [],
   "source": [
    "linked.delete_after(20)"
   ]
  },
  {
   "cell_type": "code",
   "execution_count": 52,
   "metadata": {},
   "outputs": [
    {
     "name": "stdout",
     "output_type": "stream",
     "text": [
      "40-->30-->100-->20\n"
     ]
    }
   ],
   "source": [
    "print(linked)"
   ]
  }
 ],
 "metadata": {
  "kernelspec": {
   "display_name": "fellowship",
   "language": "python",
   "name": "python3"
  },
  "language_info": {
   "codemirror_mode": {
    "name": "ipython",
    "version": 3
   },
   "file_extension": ".py",
   "mimetype": "text/x-python",
   "name": "python",
   "nbconvert_exporter": "python",
   "pygments_lexer": "ipython3",
   "version": "3.11.0"
  },
  "orig_nbformat": 4
 },
 "nbformat": 4,
 "nbformat_minor": 2
}
