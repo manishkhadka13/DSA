{
 "cells": [
  {
   "cell_type": "code",
   "execution_count": 42,
   "metadata": {},
   "outputs": [],
   "source": [
    "import ctypes"
   ]
  },
  {
   "cell_type": "code",
   "execution_count": 43,
   "metadata": {},
   "outputs": [],
   "source": [
    "class dynamicarray(object):\n",
    "    def __init__(self):\n",
    "        self.n=0 #Number of elements\n",
    "        self.size=1 #Size of array\n",
    "        self.A=self._createarray(self.size)\n",
    "    def __str__(self):\n",
    "        \"\"\"\"\n",
    "        Returns the string representation of the array\n",
    "        Args: None\n",
    "        Returns: String\n",
    "\n",
    "        \"\"\"\n",
    "        temp=\" \"\n",
    "        for i in range(self.n):\n",
    "            temp=temp+str(self.A[i])+\",\"\n",
    "        temp=temp[:-1]\n",
    "        return \"[\"+temp+\"]\"\n",
    "    def append(self,element):\n",
    "        \"\"\"\"\n",
    "        Function to add an element at the end of the array\n",
    "        Args: \n",
    "            element(any): Elements to be appended\n",
    "        Returns: None\n",
    "\n",
    "        \"\"\"\n",
    "        if self.n==self.size:\n",
    "            self._resize(2*self.size)\n",
    "        self.A[self.n]=element\n",
    "        self.n+=1\n",
    "\n",
    "    \n",
    "    def __len__(self):\n",
    "        \"\"\"\"\n",
    "        Returns the length of the array\n",
    "        Args: None\n",
    "        Returns: \n",
    "            Integer: Length of the array\n",
    "        \"\"\"\n",
    "        return self.n\n",
    "    def __getitem__(self,pos):\n",
    "        \"\"\"\"\n",
    "        Returns the element at the given position\n",
    "        Args: \n",
    "            pos(Integer): The index of the array\n",
    "        Returns: \n",
    "            Integer: The element of the array\n",
    "        \"\"\"\n",
    "        if pos<0 or pos>=self.n:\n",
    "            print(\"Index out of bounds\")\n",
    "            return None\n",
    "        else:\n",
    "            return self.A[pos]\n",
    "    def insert(self,pos,element):\n",
    "        \"\"\"\"\n",
    "        Function to insert an element at the given index\n",
    "        Args: \n",
    "            pos(Integer): The index of the array,element(Any): Elements to be inserted at that index\n",
    "        Returns: None\n",
    "        \"\"\"\n",
    "        if pos<0 or pos>=self.n:\n",
    "            print(\"Index out of bounds\")\n",
    "            return None\n",
    "        if self.n==self.size:\n",
    "            self._resize(2*self.size)\n",
    "        for i in range(self.n, pos, -1):\n",
    "            self.A[i] = self.A[i-1]\n",
    "        self.A[pos]=element\n",
    "        self.n+=1\n",
    "    def pop(self):\n",
    "        \"\"\"\"\n",
    "        Function to delete the last element of the array\n",
    "        Args: None\n",
    "        Returns: \n",
    "            Integer: The deleted item\n",
    "        \"\"\"\n",
    "        if self.n==0:\n",
    "            print(\"Array is empty,can't perform delete operation\")\n",
    "            return None\n",
    "        self.n-=1\n",
    "        return self.A[self.n]\n",
    "    def delete_item(self,pos):\n",
    "        \"\"\"\"\n",
    "        Function to delete an element at the given index\n",
    "        Args: \n",
    "            pos(Integer): The index from which element is to be deleted\n",
    "        Returns: None\n",
    "        \"\"\"\n",
    "        if pos<0 or pos>=self.n:\n",
    "            print(\"Index out of bounds\")\n",
    "            return None\n",
    "        for i in range(pos,self.n-1):\n",
    "            self.A[i]=self.A[i+1]\n",
    "        self.n-=1\n",
    "    def find(self,element):\n",
    "        \"\"\"\"\n",
    "        Function to return the index of the given element\n",
    "        Args: \n",
    "            Elements(any): The element whose index is to be returned\n",
    "        Returns:\n",
    "            Integer: The index of the given element\n",
    "        \"\"\"\n",
    "        for i in range(self.n):\n",
    "            if element==self.A[i]:\n",
    "                return i\n",
    "        return None\n",
    "    \n",
    "    def sort_array(self):\n",
    "        \"\"\"  \n",
    "        Function to sort the array\n",
    "        Args: None\n",
    "        Returns: None\n",
    "        \"\"\"    \n",
    "        def merge_sort(ar):\n",
    "            \"\"\"\n",
    "            Function to sort the array using merge sort\n",
    "            Args: \n",
    "                ar(Array): Array to be sorted\n",
    "            Returns: None     \n",
    "            \"\"\"\n",
    "            if len(ar)<=1:\n",
    "                return ar\n",
    "\n",
    "            mid=len(ar)//2\n",
    "            left=ar[:mid]\n",
    "            right=ar[mid:]\n",
    "            left=merge_sort(left)\n",
    "            right=merge_sort(right)\n",
    "            return merge_array(left,right)\n",
    "        def merge_array(left,right):\n",
    "            arr=[]\n",
    "            i=j=0\n",
    "            while i<len(left) and j<len(right):\n",
    "                if left[i]<=right[j]:\n",
    "                    arr.append(left[i])\n",
    "                    i+=1\n",
    "                else:\n",
    "                    arr.append(right[j])\n",
    "                    j+=1\n",
    "            while i<len(left):\n",
    "                arr.append(left[i])\n",
    "                i+=1\n",
    "            while j<len(right):\n",
    "                arr.append(right[j])\n",
    "                j+=1\n",
    "            return arr\n",
    "        \n",
    "        t=merge_sort(self.A[:self.n])\n",
    "        for i in range(self.n):\n",
    "            self.A[i]=t[i]\n",
    "\n",
    "    def _resize(self,new_size):\n",
    "        \"\"\"   \n",
    "        Function to resize the array\n",
    "        Args: Integer\n",
    "        Returns: None\n",
    "        \"\"\"\n",
    "        B=self._createarray(new_size)\n",
    "        for i in range(self.n):\n",
    "            B[i]=self.A[i]\n",
    "        self.A=B\n",
    "        self.size=new_size\n",
    "    def _createarray(self,new_size):\n",
    "        \"\"\"\"\n",
    "        Function to create an array\n",
    "        Args: Integer\n",
    "        Returns: Array\n",
    "        \"\"\"\n",
    "        return (new_size*ctypes.py_object)()\n",
    "    \n",
    "    \n"
   ]
  },
  {
   "cell_type": "code",
   "execution_count": 44,
   "metadata": {},
   "outputs": [],
   "source": [
    "arr=dynamicarray()"
   ]
  },
  {
   "cell_type": "code",
   "execution_count": 45,
   "metadata": {},
   "outputs": [],
   "source": [
    "arr.append(9)\n",
    "arr.append(6)\n",
    "arr.append(3)\n",
    "arr.append(2)\n",
    "arr.append(1)"
   ]
  },
  {
   "cell_type": "code",
   "execution_count": 46,
   "metadata": {},
   "outputs": [
    {
     "name": "stdout",
     "output_type": "stream",
     "text": [
      "[ 9,6,3,2,1]\n"
     ]
    }
   ],
   "source": [
    "print(arr)"
   ]
  },
  {
   "cell_type": "code",
   "execution_count": 47,
   "metadata": {},
   "outputs": [],
   "source": [
    "arr.sort_array()"
   ]
  },
  {
   "cell_type": "code",
   "execution_count": 48,
   "metadata": {},
   "outputs": [],
   "source": [
    "# arr.pop()\n",
    "# arr.pop()\n",
    "# arr.pop()\n",
    "# arr.pop()\n",
    "# arr.pop()\n",
    "# arr.pop()\n",
    "# arr.pop()\n",
    "# arr.pop()\n",
    "# arr.pop()\n",
    "# arr.pop()"
   ]
  },
  {
   "cell_type": "code",
   "execution_count": 49,
   "metadata": {},
   "outputs": [
    {
     "name": "stdout",
     "output_type": "stream",
     "text": [
      "[ 1,2,3,6,9]\n"
     ]
    }
   ],
   "source": [
    "print(arr)"
   ]
  },
  {
   "cell_type": "code",
   "execution_count": 52,
   "metadata": {},
   "outputs": [
    {
     "data": {
      "text/plain": [
       "2"
      ]
     },
     "execution_count": 52,
     "metadata": {},
     "output_type": "execute_result"
    }
   ],
   "source": [
    "arr.find(3)"
   ]
  },
  {
   "cell_type": "code",
   "execution_count": 53,
   "metadata": {},
   "outputs": [],
   "source": [
    "arr.delete_item(2)"
   ]
  },
  {
   "cell_type": "code",
   "execution_count": 54,
   "metadata": {},
   "outputs": [
    {
     "name": "stdout",
     "output_type": "stream",
     "text": [
      "[ 1,2,6,9]\n"
     ]
    }
   ],
   "source": [
    "print(arr)"
   ]
  },
  {
   "cell_type": "code",
   "execution_count": 55,
   "metadata": {},
   "outputs": [],
   "source": [
    "arr.insert(2,3)"
   ]
  }
 ],
 "metadata": {
  "kernelspec": {
   "display_name": "fellowship",
   "language": "python",
   "name": "python3"
  },
  "language_info": {
   "codemirror_mode": {
    "name": "ipython",
    "version": 3
   },
   "file_extension": ".py",
   "mimetype": "text/x-python",
   "name": "python",
   "nbconvert_exporter": "python",
   "pygments_lexer": "ipython3",
   "version": "3.11.0"
  },
  "orig_nbformat": 4
 },
 "nbformat": 4,
 "nbformat_minor": 2
}
