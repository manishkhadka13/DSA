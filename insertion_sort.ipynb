{
 "cells": [
  {
   "cell_type": "code",
   "execution_count": 6,
   "metadata": {},
   "outputs": [],
   "source": [
    "class SORT:\n",
    "    \"\"\"   \n",
    "    Class for  sorting algorithms\n",
    "    \"\"\"\n",
    "    def __init__(self, lst):   \n",
    "        self.lst = lst   # lst to be sorted\n",
    "\n",
    "    def inertion_sort(self):\n",
    "        for i in range(1, len(self.lst)):   # start from the second element\n",
    "            key = self.lst[i]       #Key is in the right position\n",
    "            j = i - 1        # j is the index of the element before key\n",
    "            while j >= 0 and self.lst[j] > key:       \n",
    "                self.lst[j + 1] = self.lst[j]   # move the element to the right\n",
    "                j -= 1          \n",
    "            self.lst[j + 1] = key    # insert key to the right position\n",
    "\n",
    "    def print(self):\n",
    "        print(self.lst)"
   ]
  },
  {
   "cell_type": "code",
   "execution_count": 7,
   "metadata": {},
   "outputs": [],
   "source": [
    "obj=SORT([5, 2, 4, 6, 1, 3])"
   ]
  },
  {
   "cell_type": "code",
   "execution_count": 9,
   "metadata": {},
   "outputs": [],
   "source": [
    "obj.inertion_sort()"
   ]
  },
  {
   "cell_type": "code",
   "execution_count": 10,
   "metadata": {},
   "outputs": [
    {
     "name": "stdout",
     "output_type": "stream",
     "text": [
      "[1, 2, 3, 4, 5, 6]\n"
     ]
    }
   ],
   "source": [
    "obj.print()"
   ]
  }
 ],
 "metadata": {
  "kernelspec": {
   "display_name": "fellowship",
   "language": "python",
   "name": "python3"
  },
  "language_info": {
   "codemirror_mode": {
    "name": "ipython",
    "version": 3
   },
   "file_extension": ".py",
   "mimetype": "text/x-python",
   "name": "python",
   "nbconvert_exporter": "python",
   "pygments_lexer": "ipython3",
   "version": "3.11.0"
  },
  "orig_nbformat": 4
 },
 "nbformat": 4,
 "nbformat_minor": 2
}
