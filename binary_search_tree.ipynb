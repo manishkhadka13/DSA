{
 "cells": [
  {
   "cell_type": "code",
   "execution_count": 143,
   "metadata": {},
   "outputs": [],
   "source": [
    "class BST: \n",
    "    \"\"\"    \n",
    "    Binary Search Tree class\n",
    "    \"\"\"\n",
    "    def __init__(self, root):\n",
    "        \"\"\"    \n",
    "        Constructor\n",
    "        Args:\n",
    "            root: root node of the BST\n",
    "        Returns:\n",
    "            None\n",
    "        \"\"\"\n",
    "        self.root= root\n",
    "        self.left= None\n",
    "        self.right= None\n",
    "\n",
    "\n",
    "    def insert(self, value):\n",
    "        \"\"\"   \n",
    "        Function to insert a node in the BST\n",
    "        Args:\n",
    "            value: value to be inserted\n",
    "        Returns:\n",
    "            None\n",
    "        \"\"\"\n",
    "        if self.root is None:\n",
    "            self.root= value\n",
    "            return\n",
    "        if self.root== value:\n",
    "            return\n",
    "        if self.root < value:\n",
    "            if self.right:       # if right node exists\n",
    "                 self.right.insert(value)     # insert in right node\n",
    "            else:\n",
    "                self.right= BST(value)    # create a new node\n",
    "        else:\n",
    "            if self.left:         # if left node exists\n",
    "                 self.left.insert(value)     # insert in left node\n",
    "            else:\n",
    "                self.left= BST(value)    # create a new node\n",
    "    def search(self,value):\n",
    "        \"\"\" \n",
    "        Function to search a node in the BST\n",
    "        Args:\n",
    "            value: value to be searched\n",
    "        Returns:\n",
    "            true if value is found, false otherwise\n",
    "        \"\"\"\n",
    "        if self.root == value:\n",
    "            print(\"Node found!!\")\n",
    "            return \n",
    "        if value > self.root:\n",
    "            if self.right:\n",
    "                self.right.search(value)\n",
    "            else:\n",
    "                print(\"Node not found!\")\n",
    "            \n",
    "        else:\n",
    "            if self.left:\n",
    "                self.left.search(value)\n",
    "            else:\n",
    "                print(\"Node not found!\")\n",
    "    def preorder_traverse(self):\n",
    "        \"\"\"   \n",
    "        Function to traverse the BST in preorder\n",
    "        Args:\n",
    "            None\n",
    "        Returns:\n",
    "            the list containing the BST elements in preorder\n",
    "        \"\"\"\n",
    "        print(self.root, end=\" \")    # print root node\n",
    "        if self.left:\n",
    "            self.left.preorder_traverse()     # traverse left subtree\n",
    "        if self.right:\n",
    "            self.right.preorder_traverse()      # traverse right subtree\n",
    "    \n",
    "    def inorder_traverse(self):\n",
    "        \"\"\"  \n",
    "        Function to traverse the BST in Inorder\n",
    "        Args:\n",
    "            None\n",
    "        Returns:\n",
    "            The list containing the BST elements in Inorder  \n",
    "        \"\"\"\n",
    "        if self.left:\n",
    "            self.left.inorder_traverse()\n",
    "        print(self.root,end=\" \")\n",
    "        if self.right:\n",
    "            self.right.inorder_traverse()\n",
    "    \n",
    "    def postorder_traverse(self):\n",
    "        \"\"\"   \n",
    "        Function o traverse the BSt in Postorder\n",
    "        Args:\n",
    "            None\n",
    "        Returns:\n",
    "            The list containing the BST elements in Postorder  \n",
    "        \"\"\"\n",
    "        if self.root is None:\n",
    "            return\n",
    "        if self.left:\n",
    "            self.left.postorder_traverse()\n",
    "        if self.right:\n",
    "            self.right.postorder_traverse()\n",
    "        print(self.root,end=\" \")\n",
    "    \n",
    "    def delete(self, value):\n",
    "        \"\"\"    \n",
    "        Function to delete a node from the BST\n",
    "        Args:\n",
    "            value: value to be deleted\n",
    "        Returns:\n",
    "            None\n",
    "        \"\"\"\n",
    "        if self.root is None:\n",
    "            print(\"Tree is empty!\")\n",
    "            return\n",
    "        if value < self.root:\n",
    "            self.left = self.left.delete(value)\n",
    "        elif value > self.root:\n",
    "            self.right = self.right.delete(value)\n",
    "        else:\n",
    "            if self.left is None:\n",
    "                return self.right\n",
    "            elif self.right is None:\n",
    "                return self.left\n",
    "            else:\n",
    "                temp = self.right.min_value()\n",
    "                self.root = temp\n",
    "                self.right = self.right.delete(temp)\n",
    "        return self\n",
    "\n",
    "    def min_value(self):\n",
    "        \"\"\"   \n",
    "        Function to find the minimum value in the BST\n",
    "        Args:\n",
    "            None\n",
    "        Returns:\n",
    "            The minimum value in the BST\n",
    "        \"\"\"\n",
    "        if self.left is None:\n",
    "            return self.root\n",
    "        else:\n",
    "            return self.left.min_value()\n",
    "    \n",
    "\n",
    "\n",
    "\n"
   ]
  },
  {
   "cell_type": "code",
   "execution_count": 138,
   "metadata": {},
   "outputs": [],
   "source": [
    "root= BST(10)\n",
    "list_x=[4,7,8,9,5,6,10,2,16]\n",
    "for i in list_x:\n",
    "    root.insert(i)\n"
   ]
  },
  {
   "cell_type": "code",
   "execution_count": 115,
   "metadata": {},
   "outputs": [
    {
     "name": "stdout",
     "output_type": "stream",
     "text": [
      "Node found!!\n"
     ]
    }
   ],
   "source": [
    "root.search(8)"
   ]
  },
  {
   "cell_type": "code",
   "execution_count": 103,
   "metadata": {},
   "outputs": [
    {
     "name": "stdout",
     "output_type": "stream",
     "text": [
      "10 4 2 7 5 6 8 9 16 "
     ]
    }
   ],
   "source": [
    "root.preorder_traverse()"
   ]
  },
  {
   "cell_type": "code",
   "execution_count": 104,
   "metadata": {},
   "outputs": [
    {
     "name": "stdout",
     "output_type": "stream",
     "text": [
      "2 4 5 6 7 8 9 10 16 "
     ]
    }
   ],
   "source": [
    "root.inorder_traverse()"
   ]
  }
 ],
 "metadata": {
  "kernelspec": {
   "display_name": "fellowship",
   "language": "python",
   "name": "python3"
  },
  "language_info": {
   "codemirror_mode": {
    "name": "ipython",
    "version": 3
   },
   "file_extension": ".py",
   "mimetype": "text/x-python",
   "name": "python",
   "nbconvert_exporter": "python",
   "pygments_lexer": "ipython3",
   "version": "3.11.0"
  },
  "orig_nbformat": 4
 },
 "nbformat": 4,
 "nbformat_minor": 2
}
